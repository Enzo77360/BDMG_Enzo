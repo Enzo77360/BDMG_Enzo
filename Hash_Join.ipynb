{
 "cells": [
  {
   "cell_type": "code",
   "id": "initial_id",
   "metadata": {
    "collapsed": true,
    "ExecuteTime": {
     "end_time": "2024-11-06T19:17:09.074523Z",
     "start_time": "2024-11-06T19:17:09.067062Z"
    }
   },
   "source": [
    "# First cell: Import and Input\n",
    "import math\n",
    "\n",
    "# Input parameters\n",
    "R = \"Relation1\"  # Name of first relation\n",
    "S = \"Relation2\"  # Name of second relation\n",
    "\n",
    "# Relations params\n",
    "nR = 10000  # Number of tuples in R\n",
    "nS = 5000  # Number of tuples in S\n",
    "bR = 400  # Number of pages of R\n",
    "bS = 1000  # Number of pages of S\n",
    "\n",
    "# System params\n",
    "M = 50  # Number of buffer pages available\n",
    "time_seek = 0.1  # Time for seeking a block from disk (in seconds)\n",
    "time_retrieve = 0.01  # Time for retrieving a block from disk (in seconds)\n",
    "hBTree = 4\n",
    "\n",
    "print(f\"Input parameters set for relations {R} and {S}\")\n"
   ],
   "outputs": [
    {
     "name": "stdout",
     "output_type": "stream",
     "text": [
      "Input parameters set for relations Relation1 and Relation2\n"
     ]
    }
   ],
   "execution_count": 2
  },
  {
   "metadata": {},
   "cell_type": "markdown",
   "source": [
    "# Hash Join \n",
    "\n",
    "s : build input \n",
    "\n",
    "r : probe input\n"
   ],
   "id": "d8e71fd19522a194"
  },
  {
   "metadata": {
    "ExecuteTime": {
     "end_time": "2024-11-06T19:17:09.156406Z",
     "start_time": "2024-11-06T19:17:09.152970Z"
    }
   },
   "cell_type": "code",
   "source": [
    "def hash_join(bR, bS, time_seek, time_retrieve, M, fudge_factor=1.2):\n",
    "   \n",
    "    nh = math.ceil((bS / M) * fudge_factor) # ⌈bs / M⌉ * f to prevent skew values\n",
    "\n",
    "    block_transfers = 3 * (bR + bS) + 4 * nh\n",
    "    seeks = 2 * (math.ceil(bR / nh) + math.ceil(bS / nh)) + 2 * nh\n",
    "\n",
    "    #time\n",
    "    time_cost = (block_transfers * time_retrieve) + (seeks * time_seek)\n",
    "\n",
    "    print(f\"Number of partitions (nh): {nh}\")\n",
    "    print(f\"Block transfers: {block_transfers}\")\n",
    "    print(f\"Seeks: {seeks}\")\n",
    "    print(f\"Total time for hash join: {time_cost:.2f} seconds\")\n",
    "    return time_cost\n",
    "\n",
    "time_hash_join = hash_join(bR, bS, time_seek, time_retrieve, M)\n",
    "print(f\"Time for Hash Join: {time_hash_join:.2f} seconds\")\n"
   ],
   "id": "cc7df2cc3f3f2f90",
   "outputs": [
    {
     "name": "stdout",
     "output_type": "stream",
     "text": [
      "Number of partitions (nh): 24\n",
      "Block transfers: 4296\n",
      "Seeks: 166\n",
      "Total time for hash join: 59.56 seconds\n",
      "Time for Hash Join: 59.56 seconds\n"
     ]
    }
   ],
   "execution_count": 3
  },
  {
   "metadata": {},
   "cell_type": "markdown",
   "source": "# Recursive Hash-Join  ",
   "id": "baffc1eea3581bd4"
  },
  {
   "metadata": {
    "ExecuteTime": {
     "end_time": "2024-11-06T19:32:55.010816Z",
     "start_time": "2024-11-06T19:32:54.996632Z"
    }
   },
   "cell_type": "code",
   "source": "",
   "id": "f0b47749311d4e6f",
   "outputs": [],
   "execution_count": null
  },
  {
   "metadata": {
    "ExecuteTime": {
     "end_time": "2024-11-06T19:17:09.260768Z",
     "start_time": "2024-11-06T19:17:09.259118Z"
    }
   },
   "cell_type": "code",
   "source": "",
   "id": "e1afdd00f2abc950",
   "outputs": [],
   "execution_count": null
  },
  {
   "metadata": {
    "ExecuteTime": {
     "end_time": "2024-11-06T19:17:09.281859Z",
     "start_time": "2024-11-06T19:17:09.280144Z"
    }
   },
   "cell_type": "code",
   "source": "",
   "id": "7f88e43fcc2f5347",
   "outputs": [],
   "execution_count": null
  }
 ],
 "metadata": {
  "kernelspec": {
   "display_name": "Python 3",
   "language": "python",
   "name": "python3"
  },
  "language_info": {
   "codemirror_mode": {
    "name": "ipython",
    "version": 2
   },
   "file_extension": ".py",
   "mimetype": "text/x-python",
   "name": "python",
   "nbconvert_exporter": "python",
   "pygments_lexer": "ipython2",
   "version": "2.7.6"
  }
 },
 "nbformat": 4,
 "nbformat_minor": 5
}
